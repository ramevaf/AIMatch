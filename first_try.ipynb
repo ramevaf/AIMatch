{
 "cells": [
  {
   "cell_type": "markdown",
   "metadata": {},
   "source": [
    "# This is just a first tests. Don't judge me"
   ]
  },
  {
   "cell_type": "markdown",
   "metadata": {},
   "source": [
    "### Importing and preprocessing of data"
   ]
  },
  {
   "cell_type": "code",
   "execution_count": null,
   "metadata": {},
   "outputs": [],
   "source": [
    "import pandas as pd\n",
    "from sklearn.metrics import accuracy_score\n",
    "\n",
    "# read in csv data\n",
    "matches = pd.read_csv(\"AI Match Results 150years.csv\")\n",
    "matches.head()"
   ]
  },
  {
   "cell_type": "code",
   "execution_count": null,
   "metadata": {},
   "outputs": [],
   "source": [
    "matches.shape"
   ]
  },
  {
   "cell_type": "code",
   "execution_count": null,
   "metadata": {},
   "outputs": [],
   "source": [
    "matches.dtypes"
   ]
  },
  {
   "cell_type": "code",
   "execution_count": null,
   "metadata": {},
   "outputs": [],
   "source": [
    "import numpy as np\n",
    "\n",
    "#convert date into usable format\n",
    "matches[\"date\"] = pd.to_datetime(matches[\"date\"])\n",
    "\n",
    "# convert object columns into integers\n",
    "matches[\"home_team_code\"] = matches[\"home_team\"].astype(\"category\").cat.codes\n",
    "matches[\"away_team_code\"] = matches[\"away_team\"].astype(\"category\").cat.codes\n",
    "matches[\"tournament_code\"] = matches[\"tournament\"].astype(\"category\").cat.codes\n",
    "\n",
    "# convert result into boolean statements\n",
    "matches[\"home_win\"] = (matches[\"home_score\"] > matches[\"away_score\"])\n",
    "matches[\"away_win\"] = (matches[\"home_score\"] < matches[\"away_score\"])\n",
    "matches[\"draw\"] = (matches[\"home_score\"] == matches[\"away_score\"])\n",
    "\n",
    "matches[\"result\"] = \"Home_Win\"\n",
    "matches.loc[matches[\"home_score\"] < matches[\"away_score\"], \"result\"] = \"Away_Win\"\n",
    "matches.loc[matches[\"home_score\"] == matches[\"away_score\"], \"result\"] = \"Draw\"\n",
    "matches[\"result_code\"] = matches[\"result\"].astype(\"category\").cat.codes\n",
    "\n",
    "\n",
    "#drop old data before 1960\n",
    "#matches  = matches.drop(matches[matches['date'] < '1960-01-01'].index)\n",
    "\n",
    "# dunno why datetime does not work for training. Therefore creating a new attribute with just rising numbers \n",
    "matches[\"date_delta\"] = (matches['date'] - matches['date'].min())  / np.timedelta64(1,'D')\n",
    "\n",
    "matches.head(100)"
   ]
  },
  {
   "cell_type": "markdown",
   "metadata": {},
   "source": [
    "### Spliting the data for training"
   ]
  },
  {
   "cell_type": "code",
   "execution_count": null,
   "metadata": {},
   "outputs": [],
   "source": [
    "# split train and test data: use 80% for training and the remaining for testing\n",
    "train = matches.sample(frac = 0.8)\n",
    "test  = matches.drop(train.index)\n",
    "\n",
    "train.shape"
   ]
  },
  {
   "cell_type": "code",
   "execution_count": null,
   "metadata": {},
   "outputs": [],
   "source": [
    "test.shape"
   ]
  },
  {
   "cell_type": "markdown",
   "metadata": {},
   "source": [
    "# RandomForestClassifier"
   ]
  },
  {
   "cell_type": "code",
   "execution_count": null,
   "metadata": {},
   "outputs": [],
   "source": [
    "# fitting\n",
    "from sklearn.ensemble import RandomForestClassifier\n",
    "rf = RandomForestClassifier(n_estimators=50, min_samples_split=10, random_state=1)\n",
    "\n",
    "predictors = [\"date_delta\", \"home_team_code\", \"away_team_code\", \"tournament_code\", \"neutral\"]\n",
    "targets = \"home_win\"\n",
    "\n",
    "rf.fit(train[predictors], train[targets])\n",
    "\n"
   ]
  },
  {
   "cell_type": "code",
   "execution_count": null,
   "metadata": {},
   "outputs": [],
   "source": [
    "# make predictions\n",
    "predictions = rf.predict(test[predictors])\n",
    "\n",
    "# accuracy\n",
    "acc_score = accuracy_score(test[targets], predictions)\n",
    "acc_score\n"
   ]
  },
  {
   "cell_type": "code",
   "execution_count": null,
   "metadata": {},
   "outputs": [],
   "source": [
    "#visualize the predcitions a bit\n",
    "combined = pd.DataFrame(dict(actual=test[targets], predicted=predictions))\n",
    "pd.crosstab(index=combined[\"actual\"], columns=combined[\"predicted\"])"
   ]
  },
  {
   "cell_type": "markdown",
   "metadata": {},
   "source": [
    "# MLPClassifier"
   ]
  },
  {
   "cell_type": "code",
   "execution_count": null,
   "metadata": {},
   "outputs": [],
   "source": [
    "# fitting\n",
    "from sklearn.neural_network import MLPClassifier\n",
    "\n",
    "predictors = [\"home_team_code\", \"away_team_code\"]\n",
    "targets = \"result_code\"\n",
    "\n",
    "clf = MLPClassifier(solver='lbfgs', alpha=1e-5, hidden_layer_sizes=(30, 5), random_state=2)\n",
    "\n",
    "clf.fit(train[predictors], train[targets])"
   ]
  },
  {
   "cell_type": "code",
   "execution_count": null,
   "metadata": {},
   "outputs": [],
   "source": [
    "# make predictions\n",
    "predictions = clf.predict(test[predictors])\n",
    "\n",
    "# accuracy\n",
    "acc_score = accuracy_score(test[targets], predictions)\n",
    "acc_score"
   ]
  },
  {
   "cell_type": "code",
   "execution_count": null,
   "metadata": {},
   "outputs": [],
   "source": [
    "#visualize the predcitions a bit\n",
    "combined = pd.DataFrame(dict(actual=test[targets], predicted=predictions))\n",
    "pd.crosstab(index=combined[\"actual\"], columns=combined[\"predicted\"])"
   ]
  },
  {
   "cell_type": "markdown",
   "metadata": {},
   "source": [
    "# That doesn't work at all. Time to improve the Data\n",
    "\n",
    "How about calculating the strength of each team using ELO\n",
    "https://en.wikipedia.org/wiki/World_Football_Elo_Ratings"
   ]
  },
  {
   "cell_type": "code",
   "execution_count": null,
   "metadata": {},
   "outputs": [],
   "source": [
    "# create dict for tournament type\n",
    "\n",
    "# to output all torunament types print the following line\n",
    "#matches[\"tournament\"].unique()\n",
    "\n",
    "# set according to http://www.eloratings.net/about\n",
    "K = {\n",
    "    'Friendly': 20,\n",
    "    'British Championship': 30,\n",
    "    'Copa Lipton': 30,\n",
    "    'Copa Newton': 30,\n",
    "    'Copa Premio Honor Argentino': 30,\n",
    "    'Copa Premio Honor Uruguayo': 30,\n",
    "    'Copa Roca': 30,\n",
    "    'Copa América': 30,\n",
    "    'Copa Chevallier Boutell': 30,\n",
    "    'Nordic Championship': 30,\n",
    "    'International Cup': 50,\n",
    "    'Baltic Cup': 30,\n",
    "    'Balkan Cup': 30,\n",
    "    'FIFA World Cup': 60,\n",
    "    'Copa Rio Branco': 30,\n",
    "    'FIFA World Cup qualification': 50,\n",
    "    'Bolivarian Games': 30,\n",
    "    'CCCF Championship': 30,\n",
    "    'NAFU Championship': 30,\n",
    "    'Copa Oswaldo Cruz': 30,\n",
    "    'Pan American Championship': 30,\n",
    "    'Copa del Pacífico': 30,\n",
    "    \"Copa Bernardo O'Higgins\": 30,\n",
    "    'AFC Asian Cup qualification': 30,\n",
    "    'Atlantic Cup': 30,\n",
    "    'AFC Asian Cup': 30,\n",
    "    'African Cup of Nations': 30,\n",
    "    'Copa Paz del Chaco': 30,\n",
    "    'Merdeka Tournament': 30,\n",
    "    'UEFA Euro qualification': 40,\n",
    "    'UEFA Euro': 50,\n",
    "    'Windward Islands Tournament': 30,\n",
    "    'African Cup of Nations qualification': 30,\n",
    "    'Vietnam Independence Cup': 30,\n",
    "    'Copa Carlos Dittborn': 30,\n",
    "    'Phillip Seaga Cup': 30,\n",
    "    'CONCACAF Championship': 30,\n",
    "    'Copa Juan Pinto Durán': 30,\n",
    "    'Arab Cup': 30,\n",
    "    'South Pacific Games': 30,\n",
    "    'CONCACAF Championship qualification': 30,\n",
    "    'Copa Artigas': 30,\n",
    "    'GaNEFo': 30,\n",
    "    \"King's Cup\": 30,\n",
    "    'Gulf Cup': 30,\n",
    "    'Indonesia Tournament': 30,\n",
    "    'Korea Cup': 30,\n",
    "    'Palestine Cup': 30,\n",
    "    'Brazil Independence Cup': 30,\n",
    "    'Copa Ramón Castilla': 30,\n",
    "    'Oceania Nations Cup': 30,\n",
    "    'CECAFA Cup': 30,\n",
    "    'Kuneitra Cup': 30,\n",
    "    'Copa Félix Bogado': 30,\n",
    "    'Real Madrid 75th Anniversary Cup': 30,\n",
    "    'Beijing International Friendship Tournament': 30,\n",
    "    'Kirin Cup': 30,\n",
    "    'CFU Caribbean Cup qualification': 30,\n",
    "    'CFU Caribbean Cup': 30,\n",
    "    'Amílcar Cabral Cup': 30,\n",
    "    'FIFA 75th Anniversary Cup': 30,\n",
    "    'Guangzhou International Friendship Tournament': 30,\n",
    "    'Mundialito': 30,\n",
    "    'West African Cup': 30,\n",
    "    'Nehru Cup': 30,\n",
    "    'Merlion Cup': 30,\n",
    "    'Great Wall Cup': 30,\n",
    "    'UDEAC Cup': 30,\n",
    "    'Rous Cup': 30,\n",
    "    'CONMEBOL–UEFA Cup of Champions': 30,\n",
    "    'Lunar New Year Cup': 30,\n",
    "    'Arab Cup qualification': 30,\n",
    "    'Tournoi de France': 30,\n",
    "    'Malta International Tournament': 30,\n",
    "    'Matthews Cup': 30,\n",
    "    'Tournament Burkina Faso': 30,\n",
    "    'Island Games': 30,\n",
    "    'Dynasty Cup': 30,\n",
    "    'Dakar Tournament': 30,\n",
    "    'UNCAF Cup': 30,\n",
    "    'Gold Cup': 30,\n",
    "    'USA Cup': 30,\n",
    "    'Jordan International Tournament': 30,\n",
    "    'Confederations Cup': 30,\n",
    "    'United Arab Emirates Friendship Tournament': 30,\n",
    "    'Oceania Nations Cup qualification': 30,\n",
    "    'Simba Tournament': 30,\n",
    "    'SAFF Cup': 30,\n",
    "    'AFF Championship': 30,\n",
    "    'King Hassan II Tournament': 30,\n",
    "    'Cyprus International Tournament': 30,\n",
    "    'Dunhill Cup': 30,\n",
    "    'COSAFA Cup qualification': 30,\n",
    "    'COSAFA Cup': 30,\n",
    "    'Gold Cup qualification': 30,\n",
    "    'SKN Football Festival': 30,\n",
    "    'UNIFFAC Cup': 30,\n",
    "    'WAFF Championship': 30,\n",
    "    'Millennium Cup': 30,\n",
    "    'Cup of Ancient Civilizations': 30,\n",
    "    \"Prime Minister's Cup\": 30,\n",
    "    'EAFF Championship': 30,\n",
    "    'TIFOCO Tournament': 30,\n",
    "    'Afro-Asian Games': 30,\n",
    "    'AFC Challenge Cup': 30,\n",
    "    'FIFI Wild Cup': 30,\n",
    "    'ELF Cup': 30,\n",
    "    'Viva World Cup': 30,\n",
    "    'AFC Challenge Cup qualification': 30,\n",
    "    'African Nations Championship': 30,\n",
    "    'VFF Cup': 30,\n",
    "    'Dragon Cup': 30,\n",
    "    'ABCS Tournament': 30,\n",
    "    'Nile Basin Tournament': 30,\n",
    "    'Nations Cup': 30,\n",
    "    'Copa Confraternidad': 30,\n",
    "    'Pacific Games': 30,\n",
    "    'Superclásico de las Américas': 30,\n",
    "    'Kirin Challenge Cup': 30,\n",
    "    'OSN Cup': 30,\n",
    "    'CONIFA World Football Cup': 30,\n",
    "    'CONIFA European Football Cup': 30,\n",
    "    'Copa América qualification': 30,\n",
    "    'World Unity Cup': 30,\n",
    "    'Pacific Mini Games': 30,\n",
    "    'Intercontinental Cup': 30,\n",
    "    'AFF Championship qualification': 30,\n",
    "    'UEFA Nations League': 40,\n",
    "    'CONCACAF Nations League qualification': 30,\n",
    "    'African Nations Championship qualification': 30,\n",
    "    'Atlantic Heritage Cup': 30,\n",
    "    'Inter Games Football Tournament': 30,\n",
    "    'CONCACAF Nations League': 30,\n",
    "    'Three Nations Cup': 30,\n",
    "    'Mahinda Rajapaksa Cup': 30,\n",
    "    'Navruz Cup': 30,\n",
    "    'CONIFA Africa Football Cup': 30,\n",
    "    'CONIFA South America Football Cup': 30,\n",
    "    \"MSG Prime Minister's Cup\": 30\n",
    "}"
   ]
  },
  {
   "cell_type": "code",
   "execution_count": null,
   "metadata": {},
   "outputs": [],
   "source": [
    "def calcNewELO( R_old, R_opp, tournament_type, own_score, opp_score, is_home_team):\n",
    "    # R_new = R_old + K * G * (W - W_e)\n",
    "    #   R_new = The new team rating\n",
    "    #   R_old = The old team rating\n",
    "    #   K = Weight index regarding the tournament of the match\n",
    "    #       World Cup, Olympic Games (1908–1980) \t60\n",
    "    #       Continental championship and intercontinental tournaments \t50\n",
    "    #       World Cup and Continental qualifiers and major tournaments \t40\n",
    "    #       All other tournaments \t30\n",
    "    #       Friendly matches \t30\n",
    "    #   G = A number from the index of goal differences\n",
    "    #   W = The result of the match\n",
    "    #   W_e = The expected result\n",
    "    G=1\n",
    "    W=1\n",
    "\n",
    "    # set G according to http://www.eloratings.net/about\n",
    "    if (own_score >= (opp_score+4)):\n",
    "        N = own_score-opp_score\n",
    "        G = 1 + 3/4 + (N-3)/8\n",
    "    elif (own_score > opp_score+3):\n",
    "        G = 1.5\n",
    "\n",
    "    # dr equals the difference in ratings plus 100 points for a team playing at home. \n",
    "    if (is_home_team):\n",
    "        dr = R_old + 100 - R_opp\n",
    "    else:\n",
    "        dr = R_old - (R_opp +100)\n",
    "    \n",
    "    # We = 1 / ( (10^(-dr/400)) + 1)\n",
    "    We = 1 / ( pow(10, (-dr/400)) + 1)\n",
    "\n",
    "    if (own_score > opp_score):\n",
    "        W = 1\n",
    "    elif (own_score ==  opp_score):\n",
    "        W = 0.5\n",
    "    else:\n",
    "        W = 0\n",
    "\n",
    "    R_new = R_old + K[tournament_type] * G * (W - We)\n",
    "    \n",
    "    return R_new"
   ]
  },
  {
   "cell_type": "code",
   "execution_count": null,
   "metadata": {},
   "outputs": [],
   "source": [
    "# Test it\n",
    "Rn = calcNewELO(1000, 100, \"UEFA Nations League\", 5, 1, True )\n",
    "print(Rn)"
   ]
  },
  {
   "cell_type": "code",
   "execution_count": null,
   "metadata": {},
   "outputs": [],
   "source": [
    "# update matches data with ELO of each team\n",
    "matches[\"ELO_home\"] = 0\n",
    "matches[\"ELO_away\"] = 0\n",
    "\n",
    "# make a list of all teams using \"home_team\" and \"away_team\"\n",
    "uteams = (matches[\"home_team\"].append( matches[\"away_team\"] )).unique()\n",
    "# initialie ELO with 1000\n",
    "all_teams_ELO = dict.fromkeys(uteams, 1000)\n",
    "\n",
    "\n",
    "for ind in matches.index:\n",
    "    # set ELO from before the match\n",
    "    ht = matches[\"home_team\"][ind]\n",
    "    at = matches[\"away_team\"][ind]\n",
    "\n",
    "    matches[\"ELO_home\"][ind] = all_teams_ELO[ht]\n",
    "    matches[\"ELO_away\"][ind] = all_teams_ELO[at]\n",
    "\n",
    "    # calc new ELO after match and update\n",
    "    Rn_home = calcNewELO(matches[\"ELO_home\"][ind], matches[\"ELO_away\"][ind], matches[\"tournament\"][ind], matches[\"home_score\"][ind], matches[\"away_score\"][ind], not matches[\"neutral\"][ind])\n",
    "    Rn_away = calcNewELO(matches[\"ELO_away\"][ind], matches[\"ELO_home\"][ind], matches[\"tournament\"][ind], matches[\"away_score\"][ind], matches[\"home_score\"][ind], False)\n",
    "    \n",
    "    all_teams_ELO[ht] = Rn_home\n",
    "    all_teams_ELO[at] = Rn_away\n",
    "    \n",
    "matches.head()"
   ]
  },
  {
   "cell_type": "code",
   "execution_count": null,
   "metadata": {},
   "outputs": [],
   "source": [
    "all_teams_ELO"
   ]
  },
  {
   "cell_type": "code",
   "execution_count": null,
   "metadata": {},
   "outputs": [],
   "source": [
    "matches.to_excel(\"with_ELO.xlsx\")  "
   ]
  },
  {
   "cell_type": "markdown",
   "metadata": {},
   "source": [
    "## Again MLPClassifier"
   ]
  },
  {
   "cell_type": "code",
   "execution_count": null,
   "metadata": {},
   "outputs": [],
   "source": [
    "# split train and test data: use 80% for training and the remaining for testing\n",
    "train = matches.sample(frac = 0.8)\n",
    "test  = matches.drop(train.index)\n",
    "\n",
    "\n",
    "# fitting\n",
    "predictors = [\"home_team_code\", \"away_team_code\", \"ELO_home\", \"ELO_away\"]\n",
    "targets = \"result\"\n",
    "\n",
    "clf = MLPClassifier(solver='lbfgs', alpha=1e-5, hidden_layer_sizes=(200, 10, 5), random_state=2)\n",
    "\n",
    "clf.fit(train[predictors], train[targets])"
   ]
  },
  {
   "cell_type": "code",
   "execution_count": null,
   "metadata": {},
   "outputs": [],
   "source": [
    "# make predictions\n",
    "predictions = clf.predict(test[predictors])\n",
    "\n",
    "# accuracy\n",
    "acc_score = accuracy_score(test[targets], predictions)\n",
    "acc_score"
   ]
  },
  {
   "cell_type": "code",
   "execution_count": null,
   "metadata": {},
   "outputs": [],
   "source": [
    "#visualize the predcitions a bit\n",
    "combined = pd.DataFrame(dict(actual=test[targets], predicted=predictions))\n",
    "pd.crosstab(index=combined[\"predicted\"], columns=combined[\"actual\"])"
   ]
  },
  {
   "cell_type": "markdown",
   "metadata": {},
   "source": [
    "## Again RandomForestClassifier"
   ]
  },
  {
   "cell_type": "code",
   "execution_count": null,
   "metadata": {},
   "outputs": [],
   "source": [
    "# fitting\n",
    "rf = RandomForestClassifier(n_estimators=200, min_samples_split=10, random_state=1)\n",
    "\n",
    "predictors = [\"home_team_code\", \"away_team_code\", \"ELO_home\", \"ELO_away\", \"neutral\"]\n",
    "targets = \"home_win\"\n",
    "\n",
    "rf.fit(train[predictors], train[targets])\n",
    "\n",
    "# make predictions\n",
    "predictions = rf.predict(test[predictors])\n",
    "\n",
    "# accuracy\n",
    "acc_score = accuracy_score(test[targets], predictions)\n",
    "acc_score"
   ]
  },
  {
   "cell_type": "code",
   "execution_count": null,
   "metadata": {},
   "outputs": [],
   "source": [
    "#visualize the predcitions a bit\n",
    "combined = pd.DataFrame(dict(actual=test[targets], predicted=predictions))\n",
    "pd.crosstab(index=combined[\"predicted\"], columns=combined[\"actual\"])"
   ]
  }
 ],
 "metadata": {
  "kernelspec": {
   "display_name": "Python 3.9.7 ('base')",
   "language": "python",
   "name": "python3"
  },
  "language_info": {
   "codemirror_mode": {
    "name": "ipython",
    "version": 3
   },
   "file_extension": ".py",
   "mimetype": "text/x-python",
   "name": "python",
   "nbconvert_exporter": "python",
   "pygments_lexer": "ipython3",
   "version": "3.9.7"
  },
  "orig_nbformat": 4,
  "vscode": {
   "interpreter": {
    "hash": "deb4792152b8b9767403eeef0a1b0f34b83d442136ccee9184cd7d1131f09aa0"
   }
  }
 },
 "nbformat": 4,
 "nbformat_minor": 2
}
